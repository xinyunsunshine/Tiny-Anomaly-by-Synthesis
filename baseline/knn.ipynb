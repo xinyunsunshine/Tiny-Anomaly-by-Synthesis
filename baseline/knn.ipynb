version https://git-lfs.github.com/spec/v1
oid sha256:07adc979bbbdf623bd8b827e547e6d58c86202effc1280f561730d19fc390254
size 3433
