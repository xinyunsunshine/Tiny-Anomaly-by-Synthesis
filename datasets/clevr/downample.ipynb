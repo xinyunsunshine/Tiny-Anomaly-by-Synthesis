version https://git-lfs.github.com/spec/v1
oid sha256:bc85f36fed9f39d1aac51fe54d7646ad0e1f4c24ab4cdf957a844a80d88f84c5
size 1842359
