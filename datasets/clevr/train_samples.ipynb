version https://git-lfs.github.com/spec/v1
oid sha256:b88574463a7390e20599cba100a1aacc3d65ce5a754bc47a93a7d152b2e67801
size 8718859
